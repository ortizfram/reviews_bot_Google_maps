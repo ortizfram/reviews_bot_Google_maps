{
 "cells": [
  {
   "cell_type": "markdown",
   "id": "fa9117aa-cd60-4f3a-bbca-9fdd1d24ad87",
   "metadata": {},
   "source": [
    "## Instructions for using the code:\n",
    "- Make sure you have the required packages installed: selenium, random, and time.\n",
    "- Replace the num_reviews variable with the number of reviews you want to generate.\n",
    "- Replace the hotel_name variable with the name of your business.\n",
    "- Replace the review_text variable with the text you want to use as the review.\n",
    "- Run the code. The code will open a new browser window and create the specified number of Gmail accounts and write reviews for your business.\n",
    "\n",
    "Note: The code uses the Chrome web driver. If you are using a different browser, you'll need to modify the code to use the appropriate web driver.\n",
    "\n",
    "Once the code has run, you can log into each Gmail account to verify that the reviews were written successfully.\n",
    "\n",
    "Keep in mind that writing fake reviews goes against Google's policies and can result in the removal of your reviews or suspension of your Google account."
   ]
  },
  {
   "cell_type": "markdown",
   "id": "f0b71715-02f9-4419-9586-0437bf723d60",
   "metadata": {},
   "source": [
    "##### 1. installing"
   ]
  },
  {
   "cell_type": "markdown",
   "id": "467652c9-f279-4ad6-9749-0ed733a43168",
   "metadata": {},
   "source": [
    "##### 1.1 importing modules"
   ]
  },
  {
   "cell_type": "code",
   "execution_count": 1,
   "id": "ba87e2bd-35c4-4fb9-860d-7fd1cc9418f4",
   "metadata": {
    "tags": []
   },
   "outputs": [],
   "source": [
    "import selenium\n",
    "import random\n",
    "import time\n",
    "from selenium import webdriver"
   ]
  },
  {
   "cell_type": "markdown",
   "id": "e5f79651-7518-4c19-89de-b4b4827cb1f2",
   "metadata": {},
   "source": [
    "##### 1.2 create gmail fuction"
   ]
  },
  {
   "cell_type": "code",
   "execution_count": 2,
   "id": "449aa0e5-8016-4eab-9127-74c3750d544a",
   "metadata": {},
   "outputs": [],
   "source": [
    "def create_gmail_account(first_name, last_name, username, password):\n",
    "    # Setting up the webdriver\n",
    "    driver = webdriver.Chrome()\n",
    "\n",
    "    # Navigating to the Gmail Sign-Up page\n",
    "    driver.get(\"https://accounts.google.com/signup\")\n",
    "\n",
    "    # Filling in the sign-up form\n",
    "    first_name_field = driver.find_element_by_id(\"firstName\")\n",
    "    first_name_field.send_keys(first_name)\n",
    "\n",
    "    last_name_field = driver.find_element_by_id(\"lastName\")\n",
    "    last_name_field.send_keys(last_name)\n",
    "\n",
    "    email_field = driver.find_element_by_id(\"username\")\n",
    "    email_field.send_keys(username)\n",
    "\n",
    "    password_field = driver.find_element_by_name(\"Passwd\")\n",
    "    password_field.send_keys(password12345)\n",
    "\n",
    "    confirm_password_field = driver.find_element_by_name(\"ConfirmPasswd\")\n",
    "    confirm_password_field.send_keys(password12345)\n",
    "\n",
    "    # Submitting the sign-up form\n",
    "    submit_button = driver.find_element_by_id(\"submitButton\")\n",
    "    submit_button.click()\n",
    "\n",
    "    return driver"
   ]
  },
  {
   "cell_type": "markdown",
   "id": "853444f7-07e8-44a6-8e04-f9c21ee43a8a",
   "metadata": {},
   "source": [
    "##### 1.3 go to maps fucntion and write "
   ]
  },
  {
   "cell_type": "code",
   "execution_count": null,
   "id": "825b0d24-64c0-4f74-91c6-891dad25c751",
   "metadata": {},
   "outputs": [],
   "source": [
    "def write_hotel_review(driver, hotel_name, review_text):\n",
    "    # Navigating to Google Maps\n",
    "    driver.get(\"https://maps.google.com\")\n",
    "\n",
    "    # Searching for a location on Google Maps\n",
    "    search_field = driver.find_element_by_id(\"searchboxinput\")\n",
    "    search_field.send_keys(hotel_name)                     # here comes hotel name\n",
    "\n",
    "    search_button = driver.find_element_by_id(\"searchbox-searchbutton\")\n",
    "    search_button.click()\n",
    "\n",
    "    # Selecting the first result\n",
    "    result = driver.find_elements_by_class_name(\"section-result\")[0]\n",
    "    result.click()\n",
    "\n",
    "    # Writing a review\n",
    "    review_button = driver.find_element_by_xpath('//*[@title=\"Write a review\"]')\n",
    "    review_button.click()\n",
    "\n",
    "    review_field = driver.find_element_by_xpath('//*[@aria-label=\"Write a review\"]')\n",
    "    review_field.send_keys(review_text)                # here comes review text\n",
    "\n",
    "    submit_review_button = driver.find_element_by_xpath('//*[text()=\"Post\"]')\n",
    "    submit_review_button.click()\n",
    "\n",
    "    time.sleep(5)"
   ]
  },
  {
   "cell_type": "markdown",
   "id": "da3928d9-4d4d-4799-bc4d-d251b4be3d4f",
   "metadata": {},
   "source": [
    "##### 1.4 create review loop and needed info"
   ]
  },
  {
   "cell_type": "code",
   "execution_count": null,
   "id": "de76599e-8096-44aa-a170-a71380690d0f",
   "metadata": {},
   "outputs": [],
   "source": [
    "def create_reviews(num_reviews, hotel_name, review_texts):\n",
    "    first_names = ['Emma','Liam','Olivia','Noah','Ava','Sophia','Benjamin','Charlotte','William','Isabella']\n",
    "    last_names = ['Smith','Johnson','Brown','Wilson','Anderson','Davis','Martin','Thompson','White','Robinson']\n",
    "    usernames = [f\"{first_name.lower()}{last_name.lower()}_{i}\" for i in range(num_reviews)\n",
    "                 for first_name in first_names for last_name in last_names]\n",
    "    passwords = [f\"password{i}\" for i in range(num_reviews)]\n",
    "    drivers = []\n",
    "\n",
    "    for i in range(num_reviews):\n",
    "        driver = create_gmail_account(first_names[i % len(first_names)], last_names[i % len(last_names)], usernames[i], passwords[i])\n",
    "        write_hotel_review(driver, hotel_name, review_texts[i % len(review_texts)])\n",
    "        drivers.append(driver)\n",
    "\n",
    "    return drivers"
   ]
  },
  {
   "cell_type": "markdown",
   "id": "54f1d9fb-c70e-4256-be7c-e097f6b1f17f",
   "metadata": {},
   "source": [
    "##### 1.5 reviews list"
   ]
  },
  {
   "cell_type": "code",
   "execution_count": null,
   "id": "c02ee5f2-8432-4f4b-9ad8-c2023299e30d",
   "metadata": {},
   "outputs": [],
   "source": [
    "review_texts = ['Beautiful location with stunning views of the Andes mountains.','Exceptional service from friendly and helpful staff.','Comfortable and spacious rooms, great for a relaxing stay.','Convenient location, easy access to local attractions.','Impressive wine selection, perfect for wine lovers.','Great value for money, offering excellent amenities.','Clean and well-maintained facilities, ensuring a pleasant stay.','Wide range of activities available, great for adventurous travelers.','']"
   ]
  }
 ],
 "metadata": {
  "kernelspec": {
   "display_name": "Python 3 (ipykernel)",
   "language": "python",
   "name": "python3"
  },
  "language_info": {
   "codemirror_mode": {
    "name": "ipython",
    "version": 3
   },
   "file_extension": ".py",
   "mimetype": "text/x-python",
   "name": "python",
   "nbconvert_exporter": "python",
   "pygments_lexer": "ipython3",
   "version": "3.10.7"
  }
 },
 "nbformat": 4,
 "nbformat_minor": 5
}
